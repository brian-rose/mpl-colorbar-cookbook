{
 "cells": [
  {
   "cell_type": "markdown",
   "source": [
    "<img src=\"images/ProjectPythia_Logo_Final-01-Blue.svg\" width=250 alt=\"Project Pythia Logo\"></img>\n",
    "<img src=\"images/logos/matplotlib_logo.svg\" width=250 alt=\"Matplotlib Logo\"></img>"
   ],
   "metadata": {
    "collapsed": false,
    "pycharm": {
     "name": "#%% md\n"
    }
   }
  },
  {
   "cell_type": "markdown",
   "metadata": {
    "pycharm": {
     "name": "#%% md\n"
    }
   },
   "source": [
    "# Matplotlib: Consistant Colorbars for Comparisons"
   ]
  },
  {
   "cell_type": "markdown",
   "metadata": {
    "pycharm": {
     "name": "#%% md\n"
    }
   },
   "source": [
    "---"
   ]
  },
  {
   "cell_type": "markdown",
   "source": [
    "## Overview\n",
    "Analyzing data almost always requires comparing datasets, and when done visually, this is a powerful way to communicate changes in data. However, to do this acurately with color, the colormap used by the plots must be the same. The colors on each plot must have the same meanings or values assigned to them. This cookbook shows how to:\n",
    "\n",
    "1. create multiple plots but display only one colorbar\n",
    "1. use the same colormap for multiple plots\n",
    "1. choose accessible colormaps and explains best practices when using color"
   ],
   "metadata": {
    "collapsed": false,
    "pycharm": {
     "name": "#%% md\n"
    }
   }
  },
  {
   "cell_type": "markdown",
   "source": [
    "## Prerequisites\n",
    "| Concepts | Importance | Notes |\n",
    "| --- | --- | --- |\n",
    "| [Intro to Cartopy](https://foundations.projectpythia.org/core/cartopy/cartopy.html) | Helpful | |\n",
    "| [Understanding of NetCDF](https://foundations.projectpythia.org/core/data-formats/netcdf-cf.html) | Helpful | Opening data sets |\n",
    "| [Matplotlib Basics](https://foundations.projectpythia.org/core/matplotlib/matplotlib-basics.html#overview) | Necessary | [Contour/Filled Contour Plots](https://foundations.projectpythia.org/core/matplotlib/matplotlib-basics.html#contour-and-filled-contour-plots) |\n",
    "| [Basic Xarray](https://foundations.projectpythia.org/core/xarray/xarray-intro.html#opening-netcdf-data) | Necessary | [Opening netCDF data](https://foundations.projectpythia.org/core/xarray/xarray-intro.html#opening-netcdf-data) |\n",
    "| [Basic Numpy](https://foundations.projectpythia.org/core/numpy/numpy-basics.html) | Necessary | |\n",
    "| [GeoCAT-viz](https://geocat-viz.readthedocs.io/en/latest/) | Helpful | For formatting plots |\n",
    "| [GeoCAT-datafiles](https://github.com/ncar/geocat-datafiles) | Helpful | |\n",
    "\n",
    "- **Time to learn**: 15 minutes"
   ],
   "metadata": {
    "collapsed": false,
    "pycharm": {
     "name": "#%% md\n"
    }
   }
  },
  {
   "cell_type": "markdown",
   "source": [
    "---"
   ],
   "metadata": {
    "collapsed": false,
    "pycharm": {
     "name": "#%% md\n"
    }
   }
  },
  {
   "cell_type": "markdown",
   "source": [
    "## Getting set up\n",
    "### Imports"
   ],
   "metadata": {
    "collapsed": false,
    "pycharm": {
     "name": "#%% md\n"
    }
   }
  },
  {
   "cell_type": "code",
   "execution_count": 9,
   "outputs": [],
   "source": [
    "import cartopy.crs as ccrs\n",
    "from cartopy.mpl.gridliner import LongitudeFormatter, LatitudeFormatter\n",
    "import matplotlib.pyplot as plt\n",
    "import numpy as np\n",
    "import xarray as xr\n",
    "\n",
    "import geocat.datafiles as gdf\n",
    "import geocat.viz as gv\n",
    "%matplotlib inline"
   ],
   "metadata": {
    "collapsed": false,
    "pycharm": {
     "name": "#%%\n"
    }
   }
  },
  {
   "cell_type": "markdown",
   "source": [
    "### Loading in and preprocessing data"
   ],
   "metadata": {
    "collapsed": false,
    "pycharm": {
     "name": "#%% md\n"
    }
   }
  },
  {
   "cell_type": "markdown",
   "source": [
    "The data we are using for this example is from the [GeoCAT-datafiles](https://github.com/NCAR/geocat-datafiles) repository on GitHub. The specific file is `TS.cam3.toga_ENS.1950-2000.nc`, and it contains surafce temeprature data from the first run of the CAM3 T85 TOGA model run. We load the data file in using the xarray default engine."
   ],
   "metadata": {
    "collapsed": false,
    "pycharm": {
     "name": "#%% md\n"
    }
   }
  },
  {
   "cell_type": "code",
   "execution_count": null,
   "outputs": [],
   "source": [
    "ds = xr.open_dataset(gdf.get(\"netcdf_files/TS.cam3.toga_ENS.1950-2000.nc\"),)\n",
    "ds"
   ],
   "metadata": {
    "collapsed": false,
    "pycharm": {
     "name": "#%%\n"
    }
   }
  },
  {
   "cell_type": "markdown",
   "source": [
    "The file has data from different timesteps of the model. Say we want to plot temperature data from two different timesteps and compare them visually. To see the biggest change, let's choose a timestep from February and one from August in the same year. We also need to select the variable of interest which is `TS` for surface temperature.\n",
    "\n",
    "To create the colorbar, we'll need to know what the minimum and maximum temperatures are. We find those here as well."
   ],
   "metadata": {
    "collapsed": false,
    "pycharm": {
     "name": "#%% md\n"
    }
   }
  },
  {
   "cell_type": "code",
   "execution_count": 11,
   "outputs": [],
   "source": [
    "# Select the timesteps\n",
    "first_step = ds.isel(time=0).TS\n",
    "last_step = ds.isel(time=6).TS\n",
    "\n",
    "# Find temperature min/max\n",
    "min_val = np.floor(min([first_step.min(), last_step.min()]).values)\n",
    "max_val = np.ceil(max([first_step.max(), last_step.max()]).values)"
   ],
   "metadata": {
    "collapsed": false,
    "pycharm": {
     "name": "#%%\n"
    }
   }
  },
  {
   "cell_type": "markdown",
   "source": [
    "## Making the Plot\n",
    "Due to Jupyter Notebook limitations, the entire plot must be made in the same block. These are the general steps:\n",
    "\n",
    "### Create the figure\n",
    "\n",
    "We are using `matplotlib` and `cartopy` to make two plots on the same figure. We need to create the figure and specify our map projection before we can create the two subplots.\n",
    "\n",
    "### Format and populate subplots\n",
    "\n",
    "Once that's done, we need to format and populate the subplots. The function `create_subplot` below ensures that both sets of axes are created with the same specifications. *Most importantly, it makes sure that both plots are drawn with the same `levels` keyword for `contourf`.* This keyword is what specifies how the colors are assigned to values. As long as `levels` is the same between contour plots, the images will be useful for making accurate comparisions.\n",
    "\n",
    "### Making the colorbar\n",
    "\n",
    "`contourf` returns a `QuadContourSet` object. This holds the information about how colors are assigned to values and where the contours are drawn. Since both plots were made with the same parameters, the returned objects are identical in regards to color assignments. Either can be passed into `plt.colorbar`.\n",
    "\n",
    "To make the colorbar appear below both plots, the `ax` parameter must be set to the lower axes `ax2`. Then `orientation` is set to `'horizontal'`. Additional [keyword arguments](https://matplotlib.org/stable/api/_as_gen/matplotlib.pyplot.colorbar.html#matplotlib.pyplot.colorbar) can be passed in to `plt.colorbar` to further customize its appearance."
   ],
   "metadata": {
    "collapsed": false,
    "pycharm": {
     "name": "#%% md\n"
    }
   }
  },
  {
   "cell_type": "code",
   "execution_count": null,
   "outputs": [],
   "source": [
    "# Helper function to format and populate subplots\n",
    "def create_plot(ax, data, cmap):\n",
    "    # Use geocat.viz.util convenience function to set axes tick values\n",
    "    gv.set_axes_limits_and_ticks(ax=ax,\n",
    "                                 xlim=(-180, 180),\n",
    "                                 ylim=(-90, 90),\n",
    "                                 xticks=np.linspace(-180, 180, 13),\n",
    "                                 yticks=np.linspace(-90, 90, 7))\n",
    "\n",
    "    # Use geocat.viz.util convenience function to make plots look like NCL\n",
    "    # plots by using latitude, longitude tick labels\n",
    "    gv.add_lat_lon_ticklabels(ax)\n",
    "\n",
    "    # Remove the degree symbol from tick labels\n",
    "    ax.yaxis.set_major_formatter(LatitudeFormatter(degree_symbol=''))\n",
    "    ax.xaxis.set_major_formatter(LongitudeFormatter(degree_symbol=''))\n",
    "\n",
    "    # Use geocat.viz.util convenience function to add minor and major ticks\n",
    "    gv.add_major_minor_ticks(ax)\n",
    "\n",
    "    # Draw coastlines\n",
    "    ax.coastlines(linewidth=0.5)\n",
    "\n",
    "    # Use geocat.viz.util convenience function to set titles\n",
    "    gv.set_titles_and_labels(ax,\n",
    "                             maintitle=data.time.values,\n",
    "                             lefttitle='TS',\n",
    "                             righttitle='K',\n",
    "                             maintitlefontsize=12,\n",
    "                             lefttitlefontsize=10,\n",
    "                             righttitlefontsize=10)\n",
    "    \n",
    "    return ax.contourf(data['lon'], data['lat'], data.data, cmap=cmap, levels=np.linspace(min_val, max_val, 10))\n",
    "\n",
    "# Creating the figure and subplots\n",
    "fig = plt.figure(figsize=(24, 8), constrained_layout=True)\n",
    "proj = ccrs.PlateCarree()\n",
    "ax1 = fig.add_subplot(2,1,1, projection=proj)  # Top axes\n",
    "ax2 = fig.add_subplot(2,1,2, projection=proj)  # Bottom axes\n",
    "\n",
    "# Plotting data\n",
    "mappable = create_plot(ax1, first_step, 'jet')\n",
    "mappable = create_plot(ax2, last_step, 'jet')\n",
    "\n",
    "# Making colorbar\n",
    "cbar = fig.colorbar(mappable, ax=ax2, orientation='horizontal', aspect=13)"
   ],
   "metadata": {
    "collapsed": false,
    "pycharm": {
     "name": "#%%\n"
    }
   }
  },
  {
   "cell_type": "markdown",
   "source": [
    "## Colormap Best Practices\n",
    "Color is a useful tool for communicating information. However, there are important factors to consider when choosing color palettes that may not be obvious at first.\n",
    "\n",
    "### Printing in Black and White\n",
    "If your plot is printed in black and white, there can be issues telling the colors apart and interpreting the plot. This is because the colors are reduced to their brightness. Colormaps have a variety of hues and levels of saturation to communicate information, but not all of them are designed to have linear changes in brightness for black and white printing. Below is an example of how the rainbow colormap we used before is hard to interpret in black and white.\n",
    "\n",
    "<img src=\"images/jet.png\" width=250 alt=\"Two world maps with temperature contours. The contours are drawn with a rainbow color palette.\"></img>\n",
    "<img src=\"images/jet_bw.png\" width=250 alt=\"Two world maps with temperature contours. The image has been converted to grayscale.\"></img>\n",
    "\n",
    "### Choosing Accessible Color Palettes\n",
    "Colorblindness affects approximately 1 in 12 men and 1 in 200 women [[1]](https://www.colourblindawareness.org/colour-blindness/). To make scientific information accessible to everyone, how different kinds of colorblindness affect the interpretation of color schemes must be taken into account.\n",
    "\n",
    "Below is an approximation of how someone with deuteranomaly colorblindness would see the plot we created. This kind of color deficiency can be described as \"green weakness\" since the green receptors in the eyes exist but have differences in how sensitive they are to green light. This is the most common kind of colorblindness, but there are many other types [[2]](https://www.color-blindness.com/types-of-color-blindness/). \n",
    "\n",
    "Note that some of the colors are now hard to distinguish and the plot is harder to interpret [[3]](https://www.color-blindness.com/coblis-color-blindness-simulator/).\n",
    "<img src=\"images/jet.png\" width=250 alt=\"Two world maps with temperature contours. The contours are drawn with a rainbow color palette.\"></img>\n",
    "<img src=\"images/jet_deuteranomaly.png\" width=250 alt=\"Two world maps with temperature contours. The image has been modified to simulate deuteranomaly color deficiency.\"></img>\n",
    "\n",
    "Recommended colormaps for sequential data are `viridis`, `plasma`, `inferno`, `magma`, and `cividis`. These colormaps increase linearly in brightness, thus the actual hue of the colors is not the only way to distinguish them. Below is an example of the `plasma` colormap and how it looks in simulated deuteranomaly and in grayscale. This colormap is still easily interpretable by someone with deuteranomaly and in grayscale printing.\n",
    "\n",
    "<img src=\"images/plasma.png\" width=250 alt=\"Two world maps with temperature contours. The contours are drawn with a rainbow color palette.\">\n",
    "<img src=\"images/plasma_deuteranomaly.png\" width=250 alt=\"Two world maps with temperature contours. The image has been modified to simulate deuteranomaly color deficiency.\"></img>\n",
    "<img src=\"images/plasma_bw.png\" width=250 alt=\"Two world maps with temperature contours. The image has been converted to grayscale.\"></img>\n",
    "\n",
    "### Alternative Color Palettes\n",
    "Matplotlib has an [entire lesson](https://matplotlib.org/stable/tutorials/colors/colormaps.html) explaining the different classes of colormaps and the appropriate times to use them. It is a more in depth resource for using color than this cookbook and is highly recommended if you want more information on this topic."
   ],
   "metadata": {
    "collapsed": false,
    "pycharm": {
     "name": "#%% md\n"
    }
   }
  },
  {
   "cell_type": "markdown",
   "metadata": {
    "pycharm": {
     "name": "#%% md\n"
    }
   },
   "source": [
    "---"
   ]
  },
  {
   "cell_type": "markdown",
   "metadata": {
    "pycharm": {
     "name": "#%% md\n"
    }
   },
   "source": [
    "## Summary\n",
    "Now that you have finished going through this cookbook, you should be able to create multiple plots that use the same colormap and colorbar. Additionally, you should know how colorblindness can affect the interpretation of colormaps and which colormaps are more accessible."
   ]
  },
  {
   "cell_type": "markdown",
   "metadata": {
    "pycharm": {
     "name": "#%% md\n"
    }
   },
   "source": [
    "## Resources and references\n",
    "For more information on choosing colormaps in Matplotlib, see their [lesson on colormaps.](https://matplotlib.org/stable/tutorials/colors/colormaps.html)\n",
    "\n",
    "For more examples of accessible colormaps in scientific visualizations, check out [the color example scripts](https://geocat-examples.readthedocs.io/en/latest/gallery/index.html#colors) on the GeoCAT-examples gallery.\n",
    "\n",
    "###\n",
    "Cartopy. v0.20.3. 29-Jun-2022. Met Office. UK. [doi:10.5281/zenodo.6775197](https://doi.org/10.5281/zenodo.6775197).\n",
    "\n",
    "Harris, C.R., Millman, K.J., van der Walt, S.J. et al. Array programming with NumPy. Nature 585, 357–362 (2020). [doi: 10.1038/s41586-020-2649-2](https://doi.org/10.1038/s41586-020-2649-2).\n",
    "\n",
    "J. D. Hunter, \"Matplotlib: A 2D Graphics Environment\", Computing in Science & Engineering, vol. 9, no. 3, pp. 90-95, 2007. v3.5.2. [doi:10.5281/zenodo.6513224](https://doi.org/10.5281/zenodo.6513224)\n",
    "\n",
    "Hoyer, S., Fitzgerald, S., Hamman, J. et al. (2022). xarray (v2022.03.0) [Software]. [doi:10.5281/zenodo.6323468](https://doi.org/10.5281/zenodo.6323468)\n",
    "\n",
    "Visualization & Analysis Systems Technologies. (2022). Geoscience Community Analysis Toolkit: GeoCAT-datafiles (v2022.03.0) [Software]. Boulder, CO, USA: UCAR/NCAR - Computational and Informational System Lab. [doi:10.5281/zenodo.6684830](https://doi.org/10.5281/zenodo.6684830).\n",
    "\n",
    "Visualization & Analysis Systems Technologies. (2022). Geoscience Community Analysis Toolkit: GeoCAT-viz (v2022.05.0) [Software]. Boulder, CO, USA: UCAR/NCAR - Computational and Informational System Lab. [doi:10.5281/zenodo.6678351](https://doi.org/10.5281/zenodo.6678351)."
   ]
  }
 ],
 "metadata": {
  "kernelspec": {
   "display_name": "Python 3 (ipykernel)",
   "language": "python",
   "name": "python3"
  },
  "language_info": {
   "codemirror_mode": {
    "name": "ipython",
    "version": 3
   },
   "file_extension": ".py",
   "mimetype": "text/x-python",
   "name": "python",
   "nbconvert_exporter": "python",
   "pygments_lexer": "ipython3",
   "version": "3.10.5"
  },
  "nbdime-conflicts": {
   "local_diff": [
    {
     "diff": [
      {
       "diff": [
        {
         "key": 0,
         "op": "addrange",
         "valuelist": [
          "Python 3"
         ]
        },
        {
         "key": 0,
         "length": 1,
         "op": "removerange"
        }
       ],
       "key": "display_name",
       "op": "patch"
      }
     ],
     "key": "kernelspec",
     "op": "patch"
    }
   ],
   "remote_diff": [
    {
     "diff": [
      {
       "diff": [
        {
         "key": 0,
         "op": "addrange",
         "valuelist": [
          "Python3"
         ]
        },
        {
         "key": 0,
         "length": 1,
         "op": "removerange"
        }
       ],
       "key": "display_name",
       "op": "patch"
      }
     ],
     "key": "kernelspec",
     "op": "patch"
    }
   ]
  },
  "toc-autonumbering": false
 },
 "nbformat": 4,
 "nbformat_minor": 4
}